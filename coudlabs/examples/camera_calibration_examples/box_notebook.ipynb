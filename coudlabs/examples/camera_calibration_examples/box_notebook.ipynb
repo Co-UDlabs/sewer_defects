{
 "cells": [
  {
   "attachments": {},
   "cell_type": "markdown",
   "metadata": {},
   "source": [
    "### Import model"
   ]
  },
  {
   "cell_type": "code",
   "execution_count": 30,
   "metadata": {},
   "outputs": [],
   "source": [
    "import os\n",
    "import sys\n",
    "import concurrent.futures\n",
    "script_path = os.path.abspath('')\n",
    "project_folder = os.path.dirname(os.path.dirname(script_path))\n",
    "model_folder = os.path.join(project_folder, 'src/camera_calibration')\n",
    "sys.path.append(model_folder)\n",
    "from camera_calib_box import calibrate_camera_with_box as box"
   ]
  },
  {
   "attachments": {},
   "cell_type": "markdown",
   "metadata": {},
   "source": [
    "### Specify input path\n",
    "Either a folder of still images or a video file"
   ]
  },
  {
   "cell_type": "code",
   "execution_count": 31,
   "metadata": {},
   "outputs": [],
   "source": [
    "input_path = 'C:/Ehsan/sewer_defects/coudlabs/examples/calibrate camera using joint images/'"
   ]
  },
  {
   "attachments": {},
   "cell_type": "markdown",
   "metadata": {},
   "source": [
    "### Calibrating object\n",
    "Specify the known width and height of the rectangular object (in meters)"
   ]
  },
  {
   "cell_type": "code",
   "execution_count": 32,
   "metadata": {},
   "outputs": [],
   "source": [
    "object_width = 0.2\n",
    "object_height = 0.2"
   ]
  },
  {
   "attachments": {},
   "cell_type": "markdown",
   "metadata": {},
   "source": [
    "### Run model"
   ]
  },
  {
   "cell_type": "code",
   "execution_count": 33,
   "metadata": {},
   "outputs": [
    {
     "name": "stdout",
     "output_type": "stream",
     "text": [
      "\n",
      "Camera Matrix:\n",
      "[[330.96134633   0.         269.5       ]\n",
      " [  0.          50.81669181 269.5       ]\n",
      " [  0.           0.           1.        ]]\n",
      "\n",
      "Distortion Coefficients:\n",
      "[[0. 0. 0. 0. 0.]]\n"
     ]
    }
   ],
   "source": [
    "def run_calibration():\n",
    "    box(input_path, object_width, object_height)\n",
    "with concurrent.futures.ThreadPoolExecutor() as executor:\n",
    "    executor.submit(run_calibration)"
   ]
  }
 ],
 "metadata": {
  "kernelspec": {
   "display_name": "Python 3",
   "language": "python",
   "name": "python3"
  },
  "language_info": {
   "codemirror_mode": {
    "name": "ipython",
    "version": 3
   },
   "file_extension": ".py",
   "mimetype": "text/x-python",
   "name": "python",
   "nbconvert_exporter": "python",
   "pygments_lexer": "ipython3",
   "version": "3.10.11"
  },
  "orig_nbformat": 4
 },
 "nbformat": 4,
 "nbformat_minor": 2
}
