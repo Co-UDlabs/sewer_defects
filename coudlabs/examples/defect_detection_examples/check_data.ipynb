{
 "cells": [
  {
   "attachments": {},
   "cell_type": "markdown",
   "metadata": {},
   "source": [
    "### 1. Import module"
   ]
  },
  {
   "cell_type": "code",
   "execution_count": 1,
   "metadata": {},
   "outputs": [
    {
     "ename": "ModuleNotFoundError",
     "evalue": "No module named 'check_data'",
     "output_type": "error",
     "traceback": [
      "\u001b[1;31m---------------------------------------------------------------------------\u001b[0m",
      "\u001b[1;31mModuleNotFoundError\u001b[0m                       Traceback (most recent call last)",
      "Cell \u001b[1;32mIn[1], line 1\u001b[0m\n\u001b[1;32m----> 1\u001b[0m \u001b[39mfrom\u001b[39;00m \u001b[39mcheck_data\u001b[39;00m \u001b[39mimport\u001b[39;00m check\n",
      "\u001b[1;31mModuleNotFoundError\u001b[0m: No module named 'check_data'"
     ]
    }
   ],
   "source": [
    "# Import libraries\n",
    "import os\n",
    "import sys\n",
    "# Set name of project root folder (sewer_defects)\n",
    "project_folder_name = \"sewer_defects\"\n",
    "# Get current path\n",
    "current_dir = os.path.abspath('')\n",
    "# Get project root path\n",
    "project_root = current_dir\n",
    "while not os.path.basename(project_root) == project_folder_name:\n",
    "    project_root = os.path.dirname(project_root)\n",
    "    if project_root == os.path.dirname(project_root):\n",
    "        raise FileNotFoundError(f\"Could not find the project root directory. Make sure '{project_folder_name}' exists.\")\n",
    "# Set model function path\n",
    "model_folder = os.path.join(project_root, 'coudlabs/src/defect_detection')\n",
    "sys.path.append(model_folder)\n",
    "# Import model\n",
    "from check_data import check"
   ]
  },
  {
   "attachments": {},
   "cell_type": "markdown",
   "metadata": {},
   "source": [
    "### 2. Data directory\n",
    "\n",
    "Data directory is a local directory on your computer where the data for training the Defect Detection Model is stored. Before running this code, the labelled images and their corresponding label text files should be placed in a folder named 'labelled_images' under this directory."
   ]
  },
  {
   "cell_type": "code",
   "execution_count": null,
   "metadata": {},
   "outputs": [],
   "source": [
    "data_dir = \"C:\\Ehsan\\sewer_data\""
   ]
  },
  {
   "attachments": {},
   "cell_type": "markdown",
   "metadata": {},
   "source": [
    "### 3. Image file types\n",
    "Specify the extensions of the image files which are processed."
   ]
  },
  {
   "cell_type": "code",
   "execution_count": null,
   "metadata": {},
   "outputs": [],
   "source": [
    "extensions = [\"png\", \"jpg\", \"tif\", \"bmp\"]"
   ]
  },
  {
   "attachments": {},
   "cell_type": "markdown",
   "metadata": {},
   "source": [
    "### 4. Run model"
   ]
  },
  {
   "cell_type": "code",
   "execution_count": null,
   "metadata": {},
   "outputs": [],
   "source": [
    "check(data_dir,extensions)"
   ]
  }
 ],
 "metadata": {
  "kernelspec": {
   "display_name": "Python 3",
   "language": "python",
   "name": "python3"
  },
  "language_info": {
   "codemirror_mode": {
    "name": "ipython",
    "version": 3
   },
   "file_extension": ".py",
   "mimetype": "text/x-python",
   "name": "python",
   "nbconvert_exporter": "python",
   "pygments_lexer": "ipython3",
   "version": "3.10.11"
  },
  "orig_nbformat": 4
 },
 "nbformat": 4,
 "nbformat_minor": 2
}
