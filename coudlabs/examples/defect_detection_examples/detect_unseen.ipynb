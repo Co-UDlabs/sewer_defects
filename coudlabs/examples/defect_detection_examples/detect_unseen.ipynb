{
 "cells": [
  {
   "attachments": {},
   "cell_type": "markdown",
   "metadata": {},
   "source": [
    "### 1. Import module"
   ]
  },
  {
   "cell_type": "code",
   "execution_count": null,
   "metadata": {},
   "outputs": [],
   "source": [
    "# Import libraries\n",
    "import os\n",
    "import sys\n",
    "# Set name of project root folder (sewer_defects)\n",
    "project_folder_name = \"sewer_defects\"\n",
    "# Get current path\n",
    "current_dir = os.path.abspath('')\n",
    "# Get project root path\n",
    "project_root = current_dir\n",
    "while not os.path.basename(project_root) == project_folder_name:\n",
    "    project_root = os.path.dirname(project_root)\n",
    "    if project_root == os.path.dirname(project_root):\n",
    "        raise FileNotFoundError(f\"Could not find the project root directory. Make sure '{project_folder_name}' exists.\")\n",
    "# Set model function path\n",
    "model_folder = os.path.join(project_root, 'coudlabs/src/defect_detection')\n",
    "sys.path.append(model_folder)\n",
    "# Import model\n",
    "from prediction import predict"
   ]
  },
  {
   "attachments": {},
   "cell_type": "markdown",
   "metadata": {},
   "source": [
    "### 2. Images"
   ]
  },
  {
   "cell_type": "code",
   "execution_count": null,
   "metadata": {},
   "outputs": [],
   "source": [
    "data_path = \"C:/Users/ci1ek/Desktop/dddd\""
   ]
  },
  {
   "attachments": {},
   "cell_type": "markdown",
   "metadata": {},
   "source": [
    "### 3. Trained model"
   ]
  },
  {
   "cell_type": "code",
   "execution_count": null,
   "metadata": {},
   "outputs": [],
   "source": [
    "model_path = \"C:/Ehsan/sewer_defects/coudlabs/trained_models/model_2023-06-08_03-11-39_2/weights/best.pt\""
   ]
  },
  {
   "attachments": {},
   "cell_type": "markdown",
   "metadata": {},
   "source": [
    "### 4. Detection"
   ]
  },
  {
   "cell_type": "code",
   "execution_count": null,
   "metadata": {},
   "outputs": [],
   "source": [
    "predict(data_path, model_path)"
   ]
  }
 ],
 "metadata": {
  "kernelspec": {
   "display_name": "Python 3",
   "language": "python",
   "name": "python3"
  },
  "language_info": {
   "codemirror_mode": {
    "name": "ipython",
    "version": 3
   },
   "file_extension": ".py",
   "mimetype": "text/x-python",
   "name": "python",
   "nbconvert_exporter": "python",
   "pygments_lexer": "ipython3",
   "version": "3.10.11"
  },
  "orig_nbformat": 4
 },
 "nbformat": 4,
 "nbformat_minor": 2
}
