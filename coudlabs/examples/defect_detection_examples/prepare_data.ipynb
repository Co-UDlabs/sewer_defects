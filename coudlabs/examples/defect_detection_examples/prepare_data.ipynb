{
 "cells": [
  {
   "attachments": {},
   "cell_type": "markdown",
   "metadata": {},
   "source": [
    "### 1. Import module"
   ]
  },
  {
   "cell_type": "code",
   "execution_count": null,
   "metadata": {},
   "outputs": [],
   "source": [
    "# Import libraries\n",
    "import os\n",
    "import sys\n",
    "# Set name of project root folder (sewer_defects)\n",
    "project_folder_name = \"sewer_defects\"\n",
    "# Get current path\n",
    "current_dir = os.path.abspath('')\n",
    "# Get project root path\n",
    "project_root = current_dir\n",
    "while not os.path.basename(project_root) == project_folder_name:\n",
    "    project_root = os.path.dirname(project_root)\n",
    "    if project_root == os.path.dirname(project_root):\n",
    "        raise FileNotFoundError(f\"Could not find the project root directory. Make sure '{project_folder_name}' exists.\")\n",
    "# Set model function path\n",
    "model_folder = os.path.join(project_root, 'coudlabs/src/defect_detection')\n",
    "sys.path.append(model_folder)\n",
    "# Import model\n",
    "from prepare_data import prepare"
   ]
  },
  {
   "attachments": {},
   "cell_type": "markdown",
   "metadata": {},
   "source": [
    "### 2. Data\n",
    "\n",
    "Specify name of dataset"
   ]
  },
  {
   "cell_type": "code",
   "execution_count": null,
   "metadata": {},
   "outputs": [],
   "source": [
    "data_name = \"set01\""
   ]
  },
  {
   "attachments": {},
   "cell_type": "markdown",
   "metadata": {},
   "source": [
    "Location of the labelled images"
   ]
  },
  {
   "cell_type": "code",
   "execution_count": null,
   "metadata": {},
   "outputs": [],
   "source": [
    "labelled_images_path = 'C:/Ehsan/sewer_data/labelled_images'"
   ]
  },
  {
   "attachments": {},
   "cell_type": "markdown",
   "metadata": {},
   "source": [
    "Image types"
   ]
  },
  {
   "cell_type": "code",
   "execution_count": null,
   "metadata": {},
   "outputs": [],
   "source": [
    "extensions = [\"png\", \"jpg\", \"tif\", \"bmp\"]"
   ]
  },
  {
   "attachments": {},
   "cell_type": "markdown",
   "metadata": {},
   "source": [
    "### 3. Training specifications"
   ]
  },
  {
   "attachments": {},
   "cell_type": "markdown",
   "metadata": {},
   "source": [
    "Convert images to grey for model training? (\"y\": yes, \"n\": no)"
   ]
  },
  {
   "cell_type": "code",
   "execution_count": null,
   "metadata": {},
   "outputs": [],
   "source": [
    "cl2gry = \"y\""
   ]
  },
  {
   "attachments": {},
   "cell_type": "markdown",
   "metadata": {},
   "source": [
    "Split data to training, validation and test sets (percentages)"
   ]
  },
  {
   "cell_type": "code",
   "execution_count": null,
   "metadata": {},
   "outputs": [],
   "source": [
    "train_percent = 70\n",
    "valid_percent = 15\n",
    "test_percent = 15"
   ]
  },
  {
   "attachments": {},
   "cell_type": "markdown",
   "metadata": {},
   "source": [
    "### 4. Run model"
   ]
  },
  {
   "cell_type": "code",
   "execution_count": null,
   "metadata": {},
   "outputs": [],
   "source": [
    "prepare(data_name,labelled_images_path,extensions,cl2gry,train_percent,valid_percent,test_percent)"
   ]
  }
 ],
 "metadata": {
  "kernelspec": {
   "display_name": "Python 3",
   "language": "python",
   "name": "python3"
  },
  "language_info": {
   "codemirror_mode": {
    "name": "ipython",
    "version": 3
   },
   "file_extension": ".py",
   "mimetype": "text/x-python",
   "name": "python",
   "nbconvert_exporter": "python",
   "pygments_lexer": "ipython3",
   "version": "3.10.11"
  },
  "orig_nbformat": 4
 },
 "nbformat": 4,
 "nbformat_minor": 2
}
