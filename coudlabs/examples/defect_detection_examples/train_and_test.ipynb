{
 "cells": [
  {
   "attachments": {},
   "cell_type": "markdown",
   "metadata": {},
   "source": [
    "### 1. Import modules"
   ]
  },
  {
   "cell_type": "code",
   "execution_count": null,
   "metadata": {},
   "outputs": [],
   "source": [
    "# Import libraries\n",
    "import os\n",
    "import sys\n",
    "# Set name of project root folder (sewer_defects)\n",
    "project_folder_name = \"sewer_defects\"\n",
    "# Get current path\n",
    "current_dir = os.path.abspath('')\n",
    "# Get project root path\n",
    "project_root = current_dir\n",
    "while not os.path.basename(project_root) == project_folder_name:\n",
    "    project_root = os.path.dirname(project_root)\n",
    "    if project_root == os.path.dirname(project_root):\n",
    "        raise FileNotFoundError(f\"Could not find the project root directory. Make sure '{project_folder_name}' exists.\")\n",
    "# Set model function path\n",
    "model_folder = os.path.join(project_root, 'coudlabs/src/defect_detection')\n",
    "sys.path.append(model_folder)\n",
    "# Import model\n",
    "from model_training import train\n",
    "from prediction import predict"
   ]
  },
  {
   "attachments": {},
   "cell_type": "markdown",
   "metadata": {},
   "source": [
    "### 2. Input & arguments"
   ]
  },
  {
   "attachments": {},
   "cell_type": "markdown",
   "metadata": {},
   "source": [
    "Pre-trained model. See here for available options: https://github.com/ehsankazemi47/sewer_defects/tree/coudlabs/ultralytics/models#pre-trained-model-architectures"
   ]
  },
  {
   "cell_type": "code",
   "execution_count": null,
   "metadata": {},
   "outputs": [],
   "source": [
    "model_name = \"yolov8l.pt\""
   ]
  },
  {
   "attachments": {},
   "cell_type": "markdown",
   "metadata": {},
   "source": [
    "Training arguments. See here for a full list of arguments: https://docs.ultralytics.com/usage/cfg/#train"
   ]
  },
  {
   "cell_type": "code",
   "execution_count": null,
   "metadata": {},
   "outputs": [],
   "source": [
    "train_args = {\n",
    "    \"epochs\": 120,\n",
    "    \"imgsz\": 480,\n",
    "    # Add more arguments as needed\n",
    "}"
   ]
  },
  {
   "attachments": {},
   "cell_type": "markdown",
   "metadata": {},
   "source": [
    "### 3. Train the model"
   ]
  },
  {
   "cell_type": "code",
   "execution_count": null,
   "metadata": {},
   "outputs": [],
   "source": [
    "results_path,_,_ = train(model_name, project_root, **train_args)"
   ]
  },
  {
   "attachments": {},
   "cell_type": "markdown",
   "metadata": {},
   "source": [
    "### 4. Test the trained model"
   ]
  },
  {
   "attachments": {},
   "cell_type": "markdown",
   "metadata": {},
   "source": [
    "Get the \"test\" data path"
   ]
  },
  {
   "cell_type": "code",
   "execution_count": null,
   "metadata": {},
   "outputs": [],
   "source": [
    "import yaml\n",
    "yaml_file_path = os.path.join(project_root, \"coudlabs/data/data.yaml\")\n",
    "with open(yaml_file_path, 'r') as f:\n",
    "    yml = yaml.safe_load(f)\n",
    "    test_data_path = os.path.join(yml['path'], yml['test'])"
   ]
  },
  {
   "attachments": {},
   "cell_type": "markdown",
   "metadata": {},
   "source": [
    "Best model weights path"
   ]
  },
  {
   "cell_type": "code",
   "execution_count": null,
   "metadata": {},
   "outputs": [],
   "source": [
    "best_model_path = os.path.join(results_path+\"2\",'weights/best.pt')\n"
   ]
  },
  {
   "attachments": {},
   "cell_type": "markdown",
   "metadata": {},
   "source": [
    "Predict on test data"
   ]
  },
  {
   "cell_type": "code",
   "execution_count": null,
   "metadata": {},
   "outputs": [],
   "source": [
    "predict(test_data_path, best_model_path)"
   ]
  }
 ],
 "metadata": {
  "kernelspec": {
   "display_name": "Python 3",
   "language": "python",
   "name": "python3"
  },
  "language_info": {
   "codemirror_mode": {
    "name": "ipython",
    "version": 3
   },
   "file_extension": ".py",
   "mimetype": "text/x-python",
   "name": "python",
   "nbconvert_exporter": "python",
   "pygments_lexer": "ipython3",
   "version": "3.10.11"
  },
  "orig_nbformat": 4
 },
 "nbformat": 4,
 "nbformat_minor": 2
}
