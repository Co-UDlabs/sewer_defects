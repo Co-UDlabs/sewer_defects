{
 "cells": [
  {
   "attachments": {},
   "cell_type": "markdown",
   "metadata": {},
   "source": [
    "### Import dependencies"
   ]
  },
  {
   "cell_type": "code",
   "execution_count": 27,
   "metadata": {},
   "outputs": [],
   "source": [
    "import os\n",
    "import sys"
   ]
  },
  {
   "attachments": {},
   "cell_type": "markdown",
   "metadata": {},
   "source": [
    "### Import the model function"
   ]
  },
  {
   "cell_type": "code",
   "execution_count": 28,
   "metadata": {},
   "outputs": [],
   "source": [
    "# Set the relative path to the object_size.py script\n",
    "script_path = os.path.abspath('')\n",
    "project_folder = os.path.dirname(os.path.dirname(script_path))\n",
    "model_folder = os.path.join(project_folder, 'src/object size estimation model')\n",
    "sys.path.append(model_folder)\n",
    "# Import the map function from object_size.py\n",
    "from object_size import map"
   ]
  },
  {
   "attachments": {},
   "cell_type": "markdown",
   "metadata": {},
   "source": [
    "### Input data"
   ]
  },
  {
   "cell_type": "code",
   "execution_count": 29,
   "metadata": {},
   "outputs": [],
   "source": [
    "folder = \"C:/Ehsan/sewer_defects_mode_examples/object_size_estimation_example_data\"\n",
    "video_path = os.path.join(folder,\"video.mp4\")\n",
    "file_path_ref = os.path.join(folder,\"ref.txt\")      # Coordinates of the box around the reference object\n",
    "file_path_other = os.path.join(folder,\"other.txt\")  # Coordinates of the box around the object\n",
    "real_size_ref = 0.212  # Real size of the reference object in meters\n",
    "focal_length = 355  # Focal length of the camera in pixels"
   ]
  },
  {
   "attachments": {},
   "cell_type": "markdown",
   "metadata": {},
   "source": [
    "### Run the model"
   ]
  },
  {
   "cell_type": "code",
   "execution_count": 30,
   "metadata": {},
   "outputs": [
    {
     "name": "stdout",
     "output_type": "stream",
     "text": [
      "Output video saved to: C:/Ehsan/sewer_defects_mode_examples/object_size_estimation_example_data\\video_output.mp4\n",
      "Estimated size of the object: 0.10 m\n"
     ]
    }
   ],
   "source": [
    "map(video_path, file_path_ref, file_path_other, real_size_ref, focal_length)"
   ]
  }
 ],
 "metadata": {
  "kernelspec": {
   "display_name": "Python 3",
   "language": "python",
   "name": "python3"
  },
  "language_info": {
   "codemirror_mode": {
    "name": "ipython",
    "version": 3
   },
   "file_extension": ".py",
   "mimetype": "text/x-python",
   "name": "python",
   "nbconvert_exporter": "python",
   "pygments_lexer": "ipython3",
   "version": "3.10.11"
  },
  "orig_nbformat": 4
 },
 "nbformat": 4,
 "nbformat_minor": 2
}
