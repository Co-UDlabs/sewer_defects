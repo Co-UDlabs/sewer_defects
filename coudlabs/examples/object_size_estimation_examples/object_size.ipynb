{
 "cells": [
  {
   "attachments": {},
   "cell_type": "markdown",
   "metadata": {},
   "source": [
    "### Import model"
   ]
  },
  {
   "cell_type": "code",
   "execution_count": null,
   "metadata": {},
   "outputs": [],
   "source": [
    "import sys\n",
    "import os\n",
    "\n",
    "# Get project root directory (three levels above)\n",
    "current_dir = os.getcwd()\n",
    "project_root = os.path.abspath(os.path.join(current_dir, '..', '..', '..'))\n",
    "\n",
    "# Append it to sys.path (if not already?)\n",
    "sys.path.append(project_root)\n",
    "\n",
    "# Import modules\n",
    "from coudlabs.src.object_size_estimation.object_size import mapp"
   ]
  },
  {
   "attachments": {},
   "cell_type": "markdown",
   "metadata": {},
   "source": [
    "### Input data"
   ]
  },
  {
   "cell_type": "code",
   "execution_count": null,
   "metadata": {},
   "outputs": [],
   "source": [
    "folder = \"C:/Ehsan/sewer_defects_model_examples/object_size_estimation_example_data/\"\n",
    "video_path = os.path.join(folder,\"video.mp4\")\n",
    "file_path_ref = os.path.join(folder,\"ref.txt\")      # Coordinates of the box around the reference object\n",
    "file_path_other = os.path.join(folder,\"other.txt\")  # Coordinates of the box around the object\n",
    "real_size_ref = 0.212  # Real size of the reference object in meters\n",
    "focal_length = 355  # Focal length of the camera in pixels"
   ]
  },
  {
   "attachments": {},
   "cell_type": "markdown",
   "metadata": {},
   "source": [
    "### Run the model"
   ]
  },
  {
   "cell_type": "code",
   "execution_count": null,
   "metadata": {},
   "outputs": [],
   "source": [
    "mapp(video_path, file_path_ref, file_path_other, real_size_ref, focal_length)"
   ]
  }
 ],
 "metadata": {
  "kernelspec": {
   "display_name": "Python 3",
   "language": "python",
   "name": "python3"
  },
  "language_info": {
   "codemirror_mode": {
    "name": "ipython",
    "version": 3
   },
   "file_extension": ".py",
   "mimetype": "text/x-python",
   "name": "python",
   "nbconvert_exporter": "python",
   "pygments_lexer": "ipython3",
   "version": "3.10.11"
  },
  "orig_nbformat": 4
 },
 "nbformat": 4,
 "nbformat_minor": 2
}
